{
 "cells": [
  {
   "cell_type": "code",
   "execution_count": null,
   "metadata": {},
   "outputs": [
    {
     "name": "stderr",
     "output_type": "stream",
     "text": [
      "<ipython-input-1-c56e42491445>:3: UserWarning: \n",
      "The dash_core_components package is deprecated. Please replace\n",
      "`import dash_core_components as dcc` with `from dash import dcc`\n",
      "  import dash_core_components as dcc\n",
      "<ipython-input-1-c56e42491445>:4: UserWarning: \n",
      "The dash_html_components package is deprecated. Please replace\n",
      "`import dash_html_components as html` with `from dash import html`\n",
      "  import dash_html_components as html\n"
     ]
    },
    {
     "name": "stdout",
     "output_type": "stream",
     "text": [
      "Dash is running on http://127.0.0.1:8050/\n",
      "\n",
      " * Serving Flask app \"__main__\" (lazy loading)\n",
      " * Environment: production\n",
      "   WARNING: This is a development server. Do not use it in a production deployment.\n",
      "   Use a production WSGI server instead.\n",
      " * Debug mode: on\n"
     ]
    }
   ],
   "source": [
    "# -*- coding: utf-8 -*-\n",
    "import dash\n",
    "import dash_core_components as dcc\n",
    "import dash_html_components as html\n",
    "from dash.dependencies import Input, Output\n",
    "from pages import (\n",
    "    overview,\n",
    "    dimentions,\n",
    "    pricePerformance,\n",
    "    servicenetwork,\n",
    "#    distributions,\n",
    "    summary,\n",
    ")\n",
    "\n",
    "app = dash.Dash(\n",
    "    __name__, suppress_callback_exceptions=True, meta_tags=[{\"name\": \"viewport\", \"content\": \"width=device-width\"}],\n",
    ")\n",
    "app.title = \"Financial Report\"\n",
    "server = app.server\n",
    "\n",
    "# Describe the layout/ UI of the app\n",
    "app.layout = html.Div(\n",
    "    [dcc.Location(id=\"url\", refresh=False), html.Div(id=\"page-content\")]\n",
    ")\n",
    "\n",
    "# Update page\n",
    "@app.callback(Output(\"page-content\", \"children\"), [Input(\"url\", \"pathname\")])\n",
    "def display_page(pathname):\n",
    "    if   pathname == \"/dash-financial-report/dimentions\":\n",
    "        return dimentions.create_layout(app)\n",
    "    elif pathname == \"/dash-financial-report/price-performance\":\n",
    "        return pricePerformance.create_layout(app)\n",
    "    elif pathname == \"/dash-financial-report/service-network\":\n",
    "        return servicenetwork.create_layout(app)\n",
    "#     elif pathname == \"/dash-financial-report/distributions\":\n",
    "#         return distributions.create_layout(app)\n",
    "    elif pathname == \"/dash-financial-report/summary-and-findings\":\n",
    "        return summary.create_layout(app)\n",
    "#     elif pathname == \"/dash-financial-report/full-view\":\n",
    "#         return (\n",
    "#             overview.create_layout(app),\n",
    "#             pricePerformance.create_layout(app),\n",
    "#             portfolioManagement.create_layout(app),\n",
    "#             feesMins.create_layout(app),\n",
    "#             distributions.create_layout(app),\n",
    "#             newsReviews.create_layout(app),\n",
    "#         )\n",
    "    else:\n",
    "        return overview.create_layout(app)\n",
    "\n",
    "\n",
    "if __name__ == \"__main__\":\n",
    "    app.run_server(debug=True, use_reloader=False)\n"
   ]
  },
  {
   "cell_type": "code",
   "execution_count": null,
   "metadata": {},
   "outputs": [],
   "source": []
  }
 ],
 "metadata": {
  "kernelspec": {
   "display_name": "Python 3",
   "language": "python",
   "name": "python3"
  },
  "language_info": {
   "codemirror_mode": {
    "name": "ipython",
    "version": 3
   },
   "file_extension": ".py",
   "mimetype": "text/x-python",
   "name": "python",
   "nbconvert_exporter": "python",
   "pygments_lexer": "ipython3",
   "version": "3.8.3"
  }
 },
 "nbformat": 4,
 "nbformat_minor": 4
}
